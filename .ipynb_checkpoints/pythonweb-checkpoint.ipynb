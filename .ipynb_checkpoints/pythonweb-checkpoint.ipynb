{
 "cells": [
  {
   "cell_type": "code",
   "execution_count": null,
   "metadata": {},
   "outputs": [
    {
     "ename": "",
     "evalue": "",
     "output_type": "error",
     "traceback": [
      "\u001b[1;31mRunning cells with 'Python 3.13.1' requires the ipykernel package.\n",
      "\u001b[1;31mRun the following command to install 'ipykernel' into the Python environment. \n",
      "\u001b[1;31mCommand: '/bin/python -m pip install ipykernel -U --user --force-reinstall'"
     ]
    }
   ],
   "source": [
    "\"\"\"\n",
    "This simple program is just to say Hello world\n",
    "\"\"\"\n",
    "\n",
    "print(\"Hello World\") # a single statement of the program"
   ]
  },
  {
   "cell_type": "markdown",
   "metadata": {},
   "source": []
  },
  {
   "cell_type": "code",
   "execution_count": null,
   "metadata": {},
   "outputs": [
    {
     "ename": "",
     "evalue": "",
     "output_type": "error",
     "traceback": [
      "\u001b[1;31mRunning cells with 'Python 3.13.1' requires the ipykernel package.\n",
      "\u001b[1;31mRun the following command to install 'ipykernel' into the Python environment. \n",
      "\u001b[1;31mCommand: '/bin/python -m pip install ipykernel -U --user --force-reinstall'"
     ]
    }
   ],
   "source": [
    "i = 5 # assign 5 to variable i. Everything behind the hash mark is comment\n",
    "j = 3 # assign 3 to variable j\n",
    "print(f\"{i} + {j} = {i + j}\") # print i + j\n",
    "print(f\"{i} - {j} = {i - j}\") # print i - j\n",
    "print(f\"{i} x {j} = {i * j}\") # print i * j\n",
    "print(f\"{i} / {j} = {i / j}\") # print i / j (/ is division)\n",
    "print(f\"{i} // {j} = {i // j}\") # print i // j (// is quotient)\n",
    "print(f\"{i} % {j} = {i % j}\") # print i % j (% is modulus)\n",
    "print(f\"{i} ** {j} = {i ** j}\") # print the result of i power of j\n",
    "print(f\"root {j} of {i} = {i ** (1/j)}\") # print the result of root j of\n",
    "i"
   ]
  },
  {
   "cell_type": "code",
   "execution_count": null,
   "metadata": {},
   "outputs": [],
   "source": [
    "import matplotlib.pyplot as plt\n",
    "x = ['D','C-','C','C+','B-','B','B+','A','A','A+']\n",
    "y = [6,9,12,19,23,28,15,13,7,5]\n",
    "plt.bar(x,y)\n",
    "plt.title('A showcase')\n",
    "plt.xlabel('Letter Grade')\n",
    "plt.ylabel('# of Students')\n",
    "plt.show()"
   ]
  },
  {
   "cell_type": "code",
   "execution_count": null,
   "metadata": {},
   "outputs": [],
   "source": [
    "import matplotlib.pyplot as plt\n",
    "\n",
    "plt.plot([1, 2, 3, 4])\n",
    "plt.ylabel('Some numbers')\n",
    "plt.show()"
   ]
  },
  {
   "cell_type": "code",
   "execution_count": null,
   "metadata": {},
   "outputs": [],
   "source": [
    "import imaplib\n",
    "\n",
    "# Connect to Gmail's IMAP server\n",
    "obj = imaplib.IMAP4_SSL('imap.gmail.com', 993)\n",
    "obj.login('sunday.oke@gmail.com', 'mtyi bobx bsqo ewom')\n",
    "obj.select('Inbox')  # Select the inbox folder\n",
    "\n",
    "# Get the total number of emails in the inbox\n",
    "status, email_count = obj.search(None, 'ALL')\n",
    "print(f\"Total emails in Inbox: {len(email_count[0].split())}\")"
   ]
  }
 ],
 "metadata": {
  "kernelspec": {
   "display_name": "Python 3",
   "language": "python",
   "name": "python3"
  },
  "language_info": {
   "codemirror_mode": {
    "name": "ipython",
    "version": 3
   },
   "file_extension": ".py",
   "mimetype": "text/x-python",
   "name": "python",
   "nbconvert_exporter": "python",
   "pygments_lexer": "ipython3",
   "version": "3.13.1"
  }
 },
 "nbformat": 4,
 "nbformat_minor": 2
}
